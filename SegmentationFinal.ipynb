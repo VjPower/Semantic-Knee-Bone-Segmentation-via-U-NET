{
  "cells": [
    {
      "cell_type": "markdown",
      "metadata": {
        "id": "view-in-github",
        "colab_type": "text"
      },
      "source": [
        "<a href=\"https://colab.research.google.com/github/VjPower/Semantic-Knee-Bone-Segmentation-via-U-NET/blob/main/SegmentationFinal.ipynb\" target=\"_parent\"><img src=\"https://colab.research.google.com/assets/colab-badge.svg\" alt=\"Open In Colab\"/></a>"
      ]
    },
    {
      "cell_type": "code",
      "execution_count": null,
      "metadata": {
        "colab": {
          "base_uri": "https://localhost:8080/"
        },
        "id": "qxsm16IKX5bS",
        "outputId": "d8470886-5284-4599-fd63-472e732a2f4a"
      },
      "outputs": [
        {
          "name": "stdout",
          "output_type": "stream",
          "text": [
            "Looking in indexes: https://pypi.org/simple, https://us-python.pkg.dev/colab-wheels/public/simple/\n",
            "Requirement already satisfied: keras in /usr/local/lib/python3.7/dist-packages (2.8.0)\n",
            "Looking in indexes: https://pypi.org/simple, https://us-python.pkg.dev/colab-wheels/public/simple/\n",
            "Requirement already satisfied: opencv-python in /usr/local/lib/python3.7/dist-packages (4.6.0.66)\n",
            "Requirement already satisfied: numpy>=1.14.5 in /usr/local/lib/python3.7/dist-packages (from opencv-python) (1.21.6)\n",
            "Looking in indexes: https://pypi.org/simple, https://us-python.pkg.dev/colab-wheels/public/simple/\n",
            "Requirement already satisfied: tifffile in /usr/local/lib/python3.7/dist-packages (2021.11.2)\n",
            "Requirement already satisfied: numpy>=1.15.1 in /usr/local/lib/python3.7/dist-packages (from tifffile) (1.21.6)\n",
            "Looking in indexes: https://pypi.org/simple, https://us-python.pkg.dev/colab-wheels/public/simple/\n",
            "Requirement already satisfied: opencv-contrib-python in /usr/local/lib/python3.7/dist-packages (4.6.0.66)\n",
            "Requirement already satisfied: numpy>=1.14.5 in /usr/local/lib/python3.7/dist-packages (from opencv-contrib-python) (1.21.6)\n"
          ]
        }
      ],
      "source": [
        "!pip install keras\n",
        "!pip install opencv-python\n",
        "!pip install tifffile\n",
        "!pip install opencv-contrib-python"
      ]
    },
    {
      "cell_type": "code",
      "execution_count": null,
      "metadata": {
        "id": "BjYXWjRvurqb"
      },
      "outputs": [],
      "source": []
    },
    {
      "cell_type": "code",
      "execution_count": null,
      "metadata": {
        "id": "qV9uo1oGX79o"
      },
      "outputs": [],
      "source": [
        "import cv2\n",
        "import glob\n",
        "import os \n",
        "import numpy as np\n",
        "import tifffile as tiff\n",
        "import matplotlib.pyplot as plt"
      ]
    },
    {
      "cell_type": "code",
      "execution_count": null,
      "metadata": {
        "id": "kn5z9DMKX_qh"
      },
      "outputs": [],
      "source": [
        "from matplotlib import pyplot as plt\n",
        "from keras.models import Model\n",
        "from keras.layers import Input, Conv2D, MaxPooling2D, UpSampling2D, concatenate, Conv2DTranspose, BatchNormalization, Dropout, Lambda"
      ]
    },
    {
      "cell_type": "code",
      "execution_count": null,
      "metadata": {
        "id": "WiBp4VMmYWiN"
      },
      "outputs": [],
      "source": [
        "SIZE_X = 128\n",
        "SIZE_Y = 128\n",
        "n_classes=4 "
      ]
    },
    {
      "cell_type": "code",
      "execution_count": null,
      "metadata": {
        "id": "o89ERfkhYYfA"
      },
      "outputs": [],
      "source": [
        "train_masks = [] \n",
        "for directory_path in glob.glob(\"/content/drive/MyDrive/masks\"):\n",
        "    for mask_path in glob.glob(os.path.join(directory_path, \"*.tiff\")):\n",
        "        mask = cv2.imread(mask_path, 0)       \n",
        "        mask = cv2.resize(mask, (SIZE_Y, SIZE_X))  #Otherwise ground truth changes due to interpolation\n",
        "        train_masks.append(mask)"
      ]
    },
    {
      "cell_type": "code",
      "execution_count": null,
      "metadata": {
        "colab": {
          "base_uri": "https://localhost:8080/"
        },
        "id": "xDTevFhFZRYQ",
        "outputId": "df4ea9ef-ef50-4f0d-a00f-c16451819ce1"
      },
      "outputs": [
        {
          "name": "stdout",
          "output_type": "stream",
          "text": [
            "[array([[0, 0, 0, ..., 0, 0, 0],\n",
            "       [0, 0, 0, ..., 0, 0, 0],\n",
            "       [0, 0, 0, ..., 0, 0, 0],\n",
            "       ...,\n",
            "       [0, 0, 0, ..., 0, 0, 0],\n",
            "       [0, 0, 0, ..., 0, 0, 0],\n",
            "       [0, 0, 0, ..., 0, 0, 0]], dtype=uint8), array([[0, 0, 0, ..., 0, 0, 0],\n",
            "       [0, 0, 0, ..., 0, 0, 0],\n",
            "       [0, 0, 0, ..., 0, 0, 0],\n",
            "       ...,\n",
            "       [0, 0, 0, ..., 0, 0, 0],\n",
            "       [0, 0, 0, ..., 0, 0, 0],\n",
            "       [0, 0, 0, ..., 0, 0, 0]], dtype=uint8), array([[0, 0, 0, ..., 0, 0, 0],\n",
            "       [0, 0, 0, ..., 0, 0, 0],\n",
            "       [0, 0, 0, ..., 0, 0, 0],\n",
            "       ...,\n",
            "       [0, 0, 0, ..., 0, 0, 0],\n",
            "       [0, 0, 0, ..., 0, 0, 0],\n",
            "       [0, 0, 0, ..., 0, 0, 0]], dtype=uint8), array([[0, 0, 0, ..., 0, 0, 0],\n",
            "       [0, 0, 0, ..., 0, 0, 0],\n",
            "       [0, 0, 0, ..., 0, 0, 0],\n",
            "       ...,\n",
            "       [0, 0, 0, ..., 0, 0, 0],\n",
            "       [0, 0, 0, ..., 0, 0, 0],\n",
            "       [0, 0, 0, ..., 0, 0, 0]], dtype=uint8), array([[0, 0, 0, ..., 0, 0, 0],\n",
            "       [0, 0, 0, ..., 0, 0, 0],\n",
            "       [0, 0, 0, ..., 0, 0, 0],\n",
            "       ...,\n",
            "       [0, 0, 0, ..., 0, 0, 0],\n",
            "       [0, 0, 0, ..., 0, 0, 0],\n",
            "       [0, 0, 0, ..., 0, 0, 0]], dtype=uint8), array([[0, 0, 0, ..., 0, 0, 0],\n",
            "       [0, 0, 0, ..., 0, 0, 0],\n",
            "       [0, 0, 0, ..., 0, 0, 0],\n",
            "       ...,\n",
            "       [0, 0, 0, ..., 0, 0, 0],\n",
            "       [0, 0, 0, ..., 0, 0, 0],\n",
            "       [0, 0, 0, ..., 0, 0, 0]], dtype=uint8), array([[0, 0, 0, ..., 0, 0, 0],\n",
            "       [0, 0, 0, ..., 0, 0, 0],\n",
            "       [0, 0, 0, ..., 0, 0, 0],\n",
            "       ...,\n",
            "       [0, 0, 0, ..., 0, 0, 0],\n",
            "       [0, 0, 0, ..., 0, 0, 0],\n",
            "       [0, 0, 0, ..., 0, 0, 0]], dtype=uint8), array([[0, 0, 0, ..., 0, 0, 0],\n",
            "       [0, 0, 0, ..., 0, 0, 0],\n",
            "       [0, 0, 0, ..., 0, 0, 0],\n",
            "       ...,\n",
            "       [0, 0, 0, ..., 0, 0, 0],\n",
            "       [0, 0, 0, ..., 0, 0, 0],\n",
            "       [0, 0, 0, ..., 0, 0, 0]], dtype=uint8), array([[0, 0, 0, ..., 0, 0, 0],\n",
            "       [0, 0, 0, ..., 0, 0, 0],\n",
            "       [0, 0, 0, ..., 0, 0, 0],\n",
            "       ...,\n",
            "       [0, 0, 0, ..., 0, 0, 0],\n",
            "       [0, 0, 0, ..., 0, 0, 0],\n",
            "       [0, 0, 0, ..., 0, 0, 0]], dtype=uint8), array([[0, 0, 0, ..., 0, 0, 0],\n",
            "       [0, 0, 0, ..., 0, 0, 0],\n",
            "       [0, 0, 0, ..., 0, 0, 0],\n",
            "       ...,\n",
            "       [0, 0, 0, ..., 0, 0, 0],\n",
            "       [0, 0, 0, ..., 0, 0, 0],\n",
            "       [0, 0, 0, ..., 0, 0, 0]], dtype=uint8), array([[0, 0, 0, ..., 0, 0, 0],\n",
            "       [0, 0, 0, ..., 0, 0, 0],\n",
            "       [0, 0, 0, ..., 0, 0, 0],\n",
            "       ...,\n",
            "       [0, 0, 0, ..., 0, 0, 0],\n",
            "       [0, 0, 0, ..., 0, 0, 0],\n",
            "       [0, 0, 0, ..., 0, 0, 0]], dtype=uint8), array([[0, 0, 0, ..., 0, 0, 0],\n",
            "       [0, 0, 0, ..., 0, 0, 0],\n",
            "       [0, 0, 0, ..., 0, 0, 0],\n",
            "       ...,\n",
            "       [0, 0, 0, ..., 0, 0, 0],\n",
            "       [0, 0, 0, ..., 0, 0, 0],\n",
            "       [0, 0, 0, ..., 0, 0, 0]], dtype=uint8), array([[0, 0, 0, ..., 0, 0, 0],\n",
            "       [0, 0, 0, ..., 0, 0, 0],\n",
            "       [0, 0, 0, ..., 0, 0, 0],\n",
            "       ...,\n",
            "       [0, 0, 0, ..., 0, 0, 0],\n",
            "       [0, 0, 0, ..., 0, 0, 0],\n",
            "       [0, 0, 0, ..., 0, 0, 0]], dtype=uint8), array([[0, 0, 0, ..., 0, 0, 0],\n",
            "       [0, 0, 0, ..., 0, 0, 0],\n",
            "       [0, 0, 0, ..., 0, 0, 0],\n",
            "       ...,\n",
            "       [0, 0, 0, ..., 0, 0, 0],\n",
            "       [0, 0, 0, ..., 0, 0, 0],\n",
            "       [0, 0, 0, ..., 0, 0, 0]], dtype=uint8), array([[0, 0, 0, ..., 0, 0, 0],\n",
            "       [0, 0, 0, ..., 0, 0, 0],\n",
            "       [0, 0, 0, ..., 0, 0, 0],\n",
            "       ...,\n",
            "       [0, 0, 0, ..., 0, 0, 0],\n",
            "       [0, 0, 0, ..., 0, 0, 0],\n",
            "       [0, 0, 0, ..., 0, 0, 0]], dtype=uint8), array([[0, 0, 0, ..., 0, 0, 0],\n",
            "       [0, 0, 0, ..., 0, 0, 0],\n",
            "       [0, 0, 0, ..., 0, 0, 0],\n",
            "       ...,\n",
            "       [0, 0, 0, ..., 0, 0, 0],\n",
            "       [0, 0, 0, ..., 0, 0, 0],\n",
            "       [0, 0, 0, ..., 0, 0, 0]], dtype=uint8), array([[0, 0, 0, ..., 0, 0, 0],\n",
            "       [0, 0, 0, ..., 0, 0, 0],\n",
            "       [0, 0, 0, ..., 0, 0, 0],\n",
            "       ...,\n",
            "       [0, 0, 0, ..., 0, 0, 0],\n",
            "       [0, 0, 0, ..., 0, 0, 0],\n",
            "       [0, 0, 0, ..., 0, 0, 0]], dtype=uint8), array([[0, 0, 0, ..., 0, 0, 0],\n",
            "       [0, 0, 0, ..., 0, 0, 0],\n",
            "       [0, 0, 0, ..., 0, 0, 0],\n",
            "       ...,\n",
            "       [0, 0, 0, ..., 0, 0, 0],\n",
            "       [0, 0, 0, ..., 0, 0, 0],\n",
            "       [0, 0, 0, ..., 0, 0, 0]], dtype=uint8), array([[0, 0, 0, ..., 0, 0, 0],\n",
            "       [0, 0, 0, ..., 0, 0, 0],\n",
            "       [0, 0, 0, ..., 0, 0, 0],\n",
            "       ...,\n",
            "       [0, 0, 0, ..., 0, 0, 0],\n",
            "       [0, 0, 0, ..., 0, 0, 0],\n",
            "       [0, 0, 0, ..., 0, 0, 0]], dtype=uint8), array([[0, 0, 0, ..., 0, 0, 0],\n",
            "       [0, 0, 0, ..., 0, 0, 0],\n",
            "       [0, 0, 0, ..., 0, 0, 0],\n",
            "       ...,\n",
            "       [0, 0, 0, ..., 0, 0, 0],\n",
            "       [0, 0, 0, ..., 0, 0, 0],\n",
            "       [0, 0, 0, ..., 0, 0, 0]], dtype=uint8), array([[0, 0, 0, ..., 0, 0, 0],\n",
            "       [0, 0, 0, ..., 0, 0, 0],\n",
            "       [0, 0, 0, ..., 0, 0, 0],\n",
            "       ...,\n",
            "       [0, 0, 0, ..., 0, 0, 0],\n",
            "       [0, 0, 0, ..., 0, 0, 0],\n",
            "       [0, 0, 0, ..., 0, 0, 0]], dtype=uint8), array([[0, 0, 0, ..., 0, 0, 0],\n",
            "       [0, 0, 0, ..., 0, 0, 0],\n",
            "       [0, 0, 0, ..., 0, 0, 0],\n",
            "       ...,\n",
            "       [0, 0, 0, ..., 0, 0, 0],\n",
            "       [0, 0, 0, ..., 0, 0, 0],\n",
            "       [0, 0, 0, ..., 0, 0, 0]], dtype=uint8), array([[0, 0, 0, ..., 0, 0, 0],\n",
            "       [0, 0, 0, ..., 0, 0, 0],\n",
            "       [0, 0, 0, ..., 0, 0, 0],\n",
            "       ...,\n",
            "       [0, 0, 0, ..., 0, 0, 0],\n",
            "       [0, 0, 0, ..., 0, 0, 0],\n",
            "       [0, 0, 0, ..., 0, 0, 0]], dtype=uint8), array([[0, 0, 0, ..., 0, 0, 0],\n",
            "       [0, 0, 0, ..., 0, 0, 0],\n",
            "       [0, 0, 0, ..., 0, 0, 0],\n",
            "       ...,\n",
            "       [0, 0, 0, ..., 0, 0, 0],\n",
            "       [0, 0, 0, ..., 0, 0, 0],\n",
            "       [0, 0, 0, ..., 0, 0, 0]], dtype=uint8), array([[0, 0, 0, ..., 0, 0, 0],\n",
            "       [0, 0, 0, ..., 0, 0, 0],\n",
            "       [0, 0, 0, ..., 0, 0, 0],\n",
            "       ...,\n",
            "       [0, 0, 0, ..., 0, 0, 0],\n",
            "       [0, 0, 0, ..., 0, 0, 0],\n",
            "       [0, 0, 0, ..., 0, 0, 0]], dtype=uint8), array([[0, 0, 0, ..., 0, 0, 0],\n",
            "       [0, 0, 0, ..., 0, 0, 0],\n",
            "       [0, 0, 0, ..., 0, 0, 0],\n",
            "       ...,\n",
            "       [0, 0, 0, ..., 0, 0, 0],\n",
            "       [0, 0, 0, ..., 0, 0, 0],\n",
            "       [0, 0, 0, ..., 0, 0, 0]], dtype=uint8), array([[0, 0, 0, ..., 0, 0, 0],\n",
            "       [0, 0, 0, ..., 0, 0, 0],\n",
            "       [0, 0, 0, ..., 0, 0, 0],\n",
            "       ...,\n",
            "       [0, 0, 0, ..., 0, 0, 0],\n",
            "       [0, 0, 0, ..., 0, 0, 0],\n",
            "       [0, 0, 0, ..., 0, 0, 0]], dtype=uint8), array([[0, 0, 0, ..., 0, 0, 0],\n",
            "       [0, 0, 0, ..., 0, 0, 0],\n",
            "       [0, 0, 0, ..., 0, 0, 0],\n",
            "       ...,\n",
            "       [0, 0, 0, ..., 0, 0, 0],\n",
            "       [0, 0, 0, ..., 0, 0, 0],\n",
            "       [0, 0, 0, ..., 0, 0, 0]], dtype=uint8), array([[0, 0, 0, ..., 0, 0, 0],\n",
            "       [0, 0, 0, ..., 0, 0, 0],\n",
            "       [0, 0, 0, ..., 0, 0, 0],\n",
            "       ...,\n",
            "       [0, 0, 0, ..., 0, 0, 0],\n",
            "       [0, 0, 0, ..., 0, 0, 0],\n",
            "       [0, 0, 0, ..., 0, 0, 0]], dtype=uint8), array([[0, 0, 0, ..., 0, 0, 0],\n",
            "       [0, 0, 0, ..., 0, 0, 0],\n",
            "       [0, 0, 0, ..., 0, 0, 0],\n",
            "       ...,\n",
            "       [0, 0, 0, ..., 0, 0, 0],\n",
            "       [0, 0, 0, ..., 0, 0, 0],\n",
            "       [0, 0, 0, ..., 0, 0, 0]], dtype=uint8), array([[0, 0, 0, ..., 0, 0, 0],\n",
            "       [0, 0, 0, ..., 0, 0, 0],\n",
            "       [0, 0, 0, ..., 0, 0, 0],\n",
            "       ...,\n",
            "       [0, 0, 0, ..., 0, 0, 0],\n",
            "       [0, 0, 0, ..., 0, 0, 0],\n",
            "       [0, 0, 0, ..., 0, 0, 0]], dtype=uint8), array([[0, 0, 0, ..., 0, 0, 0],\n",
            "       [0, 0, 0, ..., 0, 0, 0],\n",
            "       [0, 0, 0, ..., 0, 0, 0],\n",
            "       ...,\n",
            "       [0, 0, 0, ..., 0, 0, 0],\n",
            "       [0, 0, 0, ..., 0, 0, 0],\n",
            "       [0, 0, 0, ..., 0, 0, 0]], dtype=uint8), array([[0, 0, 0, ..., 0, 0, 0],\n",
            "       [0, 0, 0, ..., 0, 0, 0],\n",
            "       [0, 0, 0, ..., 0, 0, 0],\n",
            "       ...,\n",
            "       [0, 0, 0, ..., 0, 0, 0],\n",
            "       [0, 0, 0, ..., 0, 0, 0],\n",
            "       [0, 0, 0, ..., 0, 0, 0]], dtype=uint8), array([[0, 0, 0, ..., 0, 0, 0],\n",
            "       [0, 0, 0, ..., 0, 0, 0],\n",
            "       [0, 0, 0, ..., 0, 0, 0],\n",
            "       ...,\n",
            "       [0, 0, 0, ..., 0, 0, 0],\n",
            "       [0, 0, 0, ..., 0, 0, 0],\n",
            "       [0, 0, 0, ..., 0, 0, 0]], dtype=uint8), array([[0, 0, 0, ..., 0, 0, 0],\n",
            "       [0, 0, 0, ..., 0, 0, 0],\n",
            "       [0, 0, 0, ..., 0, 0, 0],\n",
            "       ...,\n",
            "       [0, 0, 0, ..., 0, 0, 0],\n",
            "       [0, 0, 0, ..., 0, 0, 0],\n",
            "       [0, 0, 0, ..., 0, 0, 0]], dtype=uint8), array([[0, 0, 0, ..., 0, 0, 0],\n",
            "       [0, 0, 0, ..., 0, 0, 0],\n",
            "       [0, 0, 0, ..., 0, 0, 0],\n",
            "       ...,\n",
            "       [0, 0, 0, ..., 0, 0, 0],\n",
            "       [0, 0, 0, ..., 0, 0, 0],\n",
            "       [0, 0, 0, ..., 0, 0, 0]], dtype=uint8), array([[0, 0, 0, ..., 0, 0, 0],\n",
            "       [0, 0, 0, ..., 0, 0, 0],\n",
            "       [0, 0, 0, ..., 0, 0, 0],\n",
            "       ...,\n",
            "       [0, 0, 0, ..., 0, 0, 0],\n",
            "       [0, 0, 0, ..., 0, 0, 0],\n",
            "       [0, 0, 0, ..., 0, 0, 0]], dtype=uint8), array([[0, 0, 0, ..., 0, 0, 0],\n",
            "       [0, 0, 0, ..., 0, 0, 0],\n",
            "       [0, 0, 0, ..., 0, 0, 0],\n",
            "       ...,\n",
            "       [0, 0, 0, ..., 0, 0, 0],\n",
            "       [0, 0, 0, ..., 0, 0, 0],\n",
            "       [0, 0, 0, ..., 0, 0, 0]], dtype=uint8), array([[0, 0, 0, ..., 0, 0, 0],\n",
            "       [0, 0, 0, ..., 0, 0, 0],\n",
            "       [0, 0, 0, ..., 0, 0, 0],\n",
            "       ...,\n",
            "       [0, 0, 0, ..., 0, 0, 0],\n",
            "       [0, 0, 0, ..., 0, 0, 0],\n",
            "       [0, 0, 0, ..., 0, 0, 0]], dtype=uint8), array([[0, 0, 0, ..., 0, 0, 0],\n",
            "       [0, 0, 0, ..., 0, 0, 0],\n",
            "       [0, 0, 0, ..., 0, 0, 0],\n",
            "       ...,\n",
            "       [0, 0, 0, ..., 0, 0, 0],\n",
            "       [0, 0, 0, ..., 0, 0, 0],\n",
            "       [0, 0, 0, ..., 0, 0, 0]], dtype=uint8), array([[0, 0, 0, ..., 0, 0, 0],\n",
            "       [0, 0, 0, ..., 0, 0, 0],\n",
            "       [0, 0, 0, ..., 0, 0, 0],\n",
            "       ...,\n",
            "       [0, 0, 0, ..., 0, 0, 0],\n",
            "       [0, 0, 0, ..., 0, 0, 0],\n",
            "       [0, 0, 0, ..., 0, 0, 0]], dtype=uint8), array([[0, 0, 0, ..., 0, 0, 0],\n",
            "       [0, 0, 0, ..., 0, 0, 0],\n",
            "       [0, 0, 0, ..., 0, 0, 0],\n",
            "       ...,\n",
            "       [0, 0, 0, ..., 0, 0, 0],\n",
            "       [0, 0, 0, ..., 0, 0, 0],\n",
            "       [0, 0, 0, ..., 0, 0, 0]], dtype=uint8), array([[0, 0, 0, ..., 0, 0, 0],\n",
            "       [0, 0, 0, ..., 0, 0, 0],\n",
            "       [0, 0, 0, ..., 0, 0, 0],\n",
            "       ...,\n",
            "       [0, 0, 0, ..., 0, 0, 0],\n",
            "       [0, 0, 0, ..., 0, 0, 0],\n",
            "       [0, 0, 0, ..., 0, 0, 0]], dtype=uint8), array([[0, 0, 0, ..., 0, 0, 0],\n",
            "       [0, 0, 0, ..., 0, 0, 0],\n",
            "       [0, 0, 0, ..., 0, 0, 0],\n",
            "       ...,\n",
            "       [0, 0, 0, ..., 0, 0, 0],\n",
            "       [0, 0, 0, ..., 0, 0, 0],\n",
            "       [0, 0, 0, ..., 0, 0, 0]], dtype=uint8), array([[0, 0, 0, ..., 0, 0, 0],\n",
            "       [0, 0, 0, ..., 0, 0, 0],\n",
            "       [0, 0, 0, ..., 0, 0, 0],\n",
            "       ...,\n",
            "       [0, 0, 0, ..., 0, 0, 0],\n",
            "       [0, 0, 0, ..., 0, 0, 0],\n",
            "       [0, 0, 0, ..., 0, 0, 0]], dtype=uint8), array([[0, 0, 0, ..., 0, 0, 0],\n",
            "       [0, 0, 0, ..., 0, 0, 0],\n",
            "       [0, 0, 0, ..., 0, 0, 0],\n",
            "       ...,\n",
            "       [0, 0, 0, ..., 0, 0, 0],\n",
            "       [0, 0, 0, ..., 0, 0, 0],\n",
            "       [0, 0, 0, ..., 0, 0, 0]], dtype=uint8), array([[0, 0, 0, ..., 0, 0, 0],\n",
            "       [0, 0, 0, ..., 0, 0, 0],\n",
            "       [0, 0, 0, ..., 0, 0, 0],\n",
            "       ...,\n",
            "       [0, 0, 0, ..., 0, 0, 0],\n",
            "       [0, 0, 0, ..., 0, 0, 0],\n",
            "       [0, 0, 0, ..., 0, 0, 0]], dtype=uint8), array([[0, 0, 0, ..., 0, 0, 0],\n",
            "       [0, 0, 0, ..., 0, 0, 0],\n",
            "       [0, 0, 0, ..., 0, 0, 0],\n",
            "       ...,\n",
            "       [0, 0, 0, ..., 0, 0, 0],\n",
            "       [0, 0, 0, ..., 0, 0, 0],\n",
            "       [0, 0, 0, ..., 0, 0, 0]], dtype=uint8), array([[0, 0, 0, ..., 0, 0, 0],\n",
            "       [0, 0, 0, ..., 0, 0, 0],\n",
            "       [0, 0, 0, ..., 0, 0, 0],\n",
            "       ...,\n",
            "       [0, 0, 0, ..., 0, 0, 0],\n",
            "       [0, 0, 0, ..., 0, 0, 0],\n",
            "       [0, 0, 0, ..., 0, 0, 0]], dtype=uint8), array([[0, 0, 0, ..., 0, 0, 0],\n",
            "       [0, 0, 0, ..., 0, 0, 0],\n",
            "       [0, 0, 0, ..., 0, 0, 0],\n",
            "       ...,\n",
            "       [0, 0, 0, ..., 0, 0, 0],\n",
            "       [0, 0, 0, ..., 0, 0, 0],\n",
            "       [0, 0, 0, ..., 0, 0, 0]], dtype=uint8)]\n"
          ]
        }
      ],
      "source": [
        "print(train_masks)"
      ]
    },
    {
      "cell_type": "code",
      "execution_count": null,
      "metadata": {
        "id": "-UCOJbEjZT3t"
      },
      "outputs": [],
      "source": [
        "train_masks = np.array(train_masks)\n"
      ]
    },
    {
      "cell_type": "code",
      "execution_count": null,
      "metadata": {
        "id": "wJGLFhzXiH90"
      },
      "outputs": [],
      "source": [
        "train_images = []\n",
        "\n",
        "for directory_path in glob.glob(\"/content/drive/MyDrive/dicom\"):\n",
        "    for img_path in glob.glob(os.path.join(directory_path, \"*.tif\")):\n",
        "        img = cv2.imread(img_path, 0)       \n",
        "        img = cv2.resize(img, (SIZE_Y, SIZE_X))\n",
        "        train_images.append(img)\n",
        "       \n",
        "#Convert list to array for machine learning processing        \n",
        "train_images = np.array(train_images)"
      ]
    },
    {
      "cell_type": "code",
      "execution_count": null,
      "metadata": {
        "id": "bit_VBe-kLoV"
      },
      "outputs": [],
      "source": []
    },
    {
      "cell_type": "code",
      "execution_count": null,
      "metadata": {
        "colab": {
          "base_uri": "https://localhost:8080/"
        },
        "id": "OVmyUqqYiQHQ",
        "outputId": "8eede908-b333-445b-ca97-6fe2788ed27f"
      },
      "outputs": [
        {
          "name": "stdout",
          "output_type": "stream",
          "text": [
            "[[[ 16  17  15 ...  15  14  12]\n",
            "  [ 26  26  27 ...  17  16  15]\n",
            "  [ 32  27  26 ...  32  26  18]\n",
            "  ...\n",
            "  [ 26  27  27 ...  57  54 255]\n",
            "  [ 27  26  28 ...  41  48  72]\n",
            "  [ 19  15  18 ...  19  19  29]]\n",
            "\n",
            " [[ 15  15  16 ...  17  16  18]\n",
            "  [ 21  30  33 ...  16  21  16]\n",
            "  [ 23  22  28 ...  39  30  17]\n",
            "  ...\n",
            "  [ 32  26  31 ...  55  56 248]\n",
            "  [ 24  35  25 ...  70  59  35]\n",
            "  [ 23  18  20 ...  25  11  11]]\n",
            "\n",
            " [[ 15  14  16 ...  15  13  11]\n",
            "  [ 22  25  28 ...  12  20  14]\n",
            "  [ 33  18  37 ...  27  37  19]\n",
            "  ...\n",
            "  [ 31  24  32 ...  45  60 255]\n",
            "  [ 33  36  20 ...  53  53  91]\n",
            "  [ 23  19  18 ...  26  17  13]]\n",
            "\n",
            " ...\n",
            "\n",
            " [[  0   0   1 ...   0   0   1]\n",
            "  [  0   0   0 ... 113  23 118]\n",
            "  [  0   0  13 ... 103  80  58]\n",
            "  ...\n",
            "  [  0  36 145 ...  45  70   0]\n",
            "  [  2   0   9 ...  46  57   1]\n",
            "  [  4   0   0 ...  49  36   0]]\n",
            "\n",
            " [[ 16  14  15 ...  12   8  26]\n",
            "  [ 16  19  15 ...  95  45 140]\n",
            "  [ 15  19  40 ...  82  39 134]\n",
            "  ...\n",
            "  [ 16  67 161 ...  77  42  19]\n",
            "  [ 18  20  23 ...  58  70  10]\n",
            "  [ 18  17  10 ...  66  61  14]]\n",
            "\n",
            " [[  2   0   1 ...   7  12   0]\n",
            "  [  1   5   1 ...  41  63 175]\n",
            "  [  0   4  26 ...  91  36 126]\n",
            "  ...\n",
            "  [  0  80 133 ...  61  39   0]\n",
            "  [  1   5   4 ...  66  56   0]\n",
            "  [  3   0   0 ...  56  54   0]]]\n"
          ]
        }
      ],
      "source": [
        "print(train_images)"
      ]
    },
    {
      "cell_type": "code",
      "execution_count": null,
      "metadata": {
        "colab": {
          "base_uri": "https://localhost:8080/"
        },
        "id": "fH_uVnBBiSW_",
        "outputId": "53022246-e9cb-4a45-a009-28d1b80740d1"
      },
      "outputs": [
        {
          "name": "stderr",
          "output_type": "stream",
          "text": [
            "/usr/local/lib/python3.7/dist-packages/sklearn/preprocessing/_label.py:115: DataConversionWarning: A column-vector y was passed when a 1d array was expected. Please change the shape of y to (n_samples, ), for example using ravel().\n",
            "  y = column_or_1d(y, warn=True)\n"
          ]
        }
      ],
      "source": [
        "from sklearn.preprocessing import LabelEncoder\n",
        "labelencoder = LabelEncoder()\n",
        "n, h, w = train_masks.shape\n",
        "train_masks_reshaped = train_masks.reshape(-1,1)\n",
        "train_masks_reshaped_encoded = labelencoder.fit_transform(train_masks_reshaped)\n",
        "train_masks_encoded_original_shape = train_masks_reshaped_encoded.reshape(n, h, w)"
      ]
    },
    {
      "cell_type": "code",
      "execution_count": null,
      "metadata": {
        "id": "1P2CMmwmiXyT"
      },
      "outputs": [],
      "source": [
        "np.unique(train_masks_encoded_original_shape)\n",
        "\n",
        "#################################################\n",
        "train_images = np.expand_dims(train_images, axis=3)\n",
        "# train_images = normalize(train_images, axis=1)\n"
      ]
    },
    {
      "cell_type": "code",
      "execution_count": null,
      "metadata": {
        "id": "iKr0o4ZYibfJ"
      },
      "outputs": [],
      "source": [
        "from keras.utils.np_utils import normalize"
      ]
    },
    {
      "cell_type": "code",
      "execution_count": null,
      "metadata": {
        "id": "AEOZ9gE_ir_L"
      },
      "outputs": [],
      "source": [
        "train_images = normalize(train_images, axis=1)\n"
      ]
    },
    {
      "cell_type": "code",
      "execution_count": null,
      "metadata": {
        "id": "sq0xnWnwixvd"
      },
      "outputs": [],
      "source": [
        "train_masks_input = np.expand_dims(train_masks_encoded_original_shape, axis=3)\n"
      ]
    },
    {
      "cell_type": "code",
      "execution_count": null,
      "metadata": {
        "colab": {
          "base_uri": "https://localhost:8080/"
        },
        "id": "5J9ls-qQizff",
        "outputId": "663d3e09-6f40-4b3d-a262-3a7a7deddbf5"
      },
      "outputs": [
        {
          "name": "stdout",
          "output_type": "stream",
          "text": [
            "Class values in the dataset are ...  [0 1 2 3]\n"
          ]
        }
      ],
      "source": [
        "from sklearn.model_selection import train_test_split\n",
        "X1, X_test, y1, y_test = train_test_split(train_images, train_masks_input, test_size = 1, random_state = 0)\n",
        "\n",
        "#Further split training data t a smaller subset for quick testing of models\n",
        "X_train, X_do_not_use, y_train, y_do_not_use = train_test_split(X1, y1, test_size = 0.2, random_state = 0)\n",
        "\n",
        "print(\"Class values in the dataset are ... \", np.unique(y_train))  # 0 is the background/few unlabeled "
      ]
    },
    {
      "cell_type": "code",
      "execution_count": null,
      "metadata": {
        "id": "EBCPejMUi10g"
      },
      "outputs": [],
      "source": [
        "from keras.utils.np_utils import to_categorical\n",
        "train_masks_cat = to_categorical(y_train, num_classes=n_classes)\n",
        "y_train_cat = train_masks_cat.reshape((y_train.shape[0], y_train.shape[1], y_train.shape[2], n_classes))\n",
        "\n",
        "\n",
        "\n",
        "test_masks_cat = to_categorical(y_test, num_classes=n_classes)\n",
        "y_test_cat = test_masks_cat.reshape((y_test.shape[0], y_test.shape[1], y_test.shape[2], n_classes))"
      ]
    },
    {
      "cell_type": "code",
      "execution_count": null,
      "metadata": {
        "colab": {
          "base_uri": "https://localhost:8080/"
        },
        "id": "a2Mzg9Q0sZiu",
        "outputId": "69f67e72-c337-4eb7-8b8a-9037403f09e2"
      },
      "outputs": [
        {
          "name": "stdout",
          "output_type": "stream",
          "text": [
            "Class weights are...: [ 0.33040891  1.77492742 19.80466106  2.7812483 ]\n"
          ]
        }
      ],
      "source": [
        "from sklearn.utils import class_weight\n",
        "class_weights = class_weight.compute_class_weight(class_weight = 'balanced',\n",
        "                                                 classes = np.unique(train_masks_reshaped_encoded),\n",
        "                                                 y= train_masks_reshaped_encoded)\n",
        "print(\"Class weights are...:\", class_weights)"
      ]
    },
    {
      "cell_type": "code",
      "execution_count": null,
      "metadata": {
        "id": "omiYkBTAsjMd"
      },
      "outputs": [],
      "source": [
        "IMG_HEIGHT = X_train.shape[1]\n",
        "IMG_WIDTH  = X_train.shape[2]\n",
        "IMG_CHANNELS = X_train.shape[3]"
      ]
    },
    {
      "cell_type": "code",
      "execution_count": null,
      "metadata": {
        "id": "-amEmG1Os4k3"
      },
      "outputs": [],
      "source": [
        "inputs = Input((IMG_HEIGHT, IMG_WIDTH, IMG_CHANNELS))\n",
        "#s = Lambda(lambda x: x / 255)(inputs)   #No need for this if we normalize our inputs beforehand\n",
        "s = inputs"
      ]
    },
    {
      "cell_type": "code",
      "execution_count": null,
      "metadata": {
        "id": "MtsrUyYTtuib"
      },
      "outputs": [],
      "source": [
        "c1 = Conv2D(16, (3, 3), activation='relu', kernel_initializer='he_normal', padding='same')(s)\n",
        "c1 = Dropout(0.1)(c1)\n",
        "c1 = Conv2D(16, (3, 3), activation='relu', kernel_initializer='he_normal', padding='same')(c1)\n",
        "p1 = MaxPooling2D((2, 2))(c1)"
      ]
    },
    {
      "cell_type": "code",
      "execution_count": null,
      "metadata": {
        "id": "1uYadifwtx70"
      },
      "outputs": [],
      "source": [
        "c2 = Conv2D(32, (3, 3), activation='relu', kernel_initializer='he_normal', padding='same')(p1)\n",
        "c2 = Dropout(0.1)(c2)\n",
        "c2 = Conv2D(32, (3, 3), activation='relu', kernel_initializer='he_normal', padding='same')(c2)\n",
        "p2 = MaxPooling2D((2, 2))(c2)\n",
        "     "
      ]
    },
    {
      "cell_type": "code",
      "execution_count": null,
      "metadata": {
        "id": "h65KYpJst01S"
      },
      "outputs": [],
      "source": [
        "c3 = Conv2D(64, (3, 3), activation='relu', kernel_initializer='he_normal', padding='same')(p2)\n",
        "c3 = Dropout(0.2)(c3)\n",
        "c3 = Conv2D(64, (3, 3), activation='relu', kernel_initializer='he_normal', padding='same')(c3)\n",
        "p3 = MaxPooling2D((2, 2))(c3)"
      ]
    },
    {
      "cell_type": "code",
      "execution_count": null,
      "metadata": {
        "id": "-bDD4pCct2fm"
      },
      "outputs": [],
      "source": [
        "c4 = Conv2D(128, (3, 3), activation='relu', kernel_initializer='he_normal', padding='same')(p3)\n",
        "c4 = Dropout(0.2)(c4)\n",
        "c4 = Conv2D(128, (3, 3), activation='relu', kernel_initializer='he_normal', padding='same')(c4)\n",
        "p4 = MaxPooling2D(pool_size=(2, 2))(c4)\n",
        "     "
      ]
    },
    {
      "cell_type": "code",
      "execution_count": null,
      "metadata": {
        "id": "6uc6Vbxxt3_6"
      },
      "outputs": [],
      "source": [
        "c5 = Conv2D(256, (3, 3), activation='relu', kernel_initializer='he_normal', padding='same')(p4)\n",
        "c5 = Dropout(0.3)(c5)\n",
        "c5 = Conv2D(256, (3, 3), activation='relu', kernel_initializer='he_normal', padding='same')(c5)"
      ]
    },
    {
      "cell_type": "code",
      "execution_count": null,
      "metadata": {
        "id": "JqC5eoYUt5un"
      },
      "outputs": [],
      "source": [
        "u6 = Conv2DTranspose(128, (2, 2), strides=(2, 2), padding='same')(c5)\n",
        "u6 = concatenate([u6, c4])\n",
        "c6 = Conv2D(128, (3, 3), activation='relu', kernel_initializer='he_normal', padding='same')(u6)\n",
        "c6 = Dropout(0.2)(c6)\n",
        "c6 = Conv2D(128, (3, 3), activation='relu', kernel_initializer='he_normal', padding='same')(c6)"
      ]
    },
    {
      "cell_type": "code",
      "execution_count": null,
      "metadata": {
        "id": "MG2ypEWJt7cu"
      },
      "outputs": [],
      "source": [
        "u7 = Conv2DTranspose(64, (2, 2), strides=(2, 2), padding='same')(c6)\n",
        "u7 = concatenate([u7, c3])\n",
        "c7 = Conv2D(64, (3, 3), activation='relu', kernel_initializer='he_normal', padding='same')(u7)\n",
        "c7 = Dropout(0.2)(c7)\n",
        "c7 = Conv2D(64, (3, 3), activation='relu', kernel_initializer='he_normal', padding='same')(c7)\n"
      ]
    },
    {
      "cell_type": "code",
      "execution_count": null,
      "metadata": {
        "id": "Vgl6B7mGt9Wj"
      },
      "outputs": [],
      "source": [
        "u8 = Conv2DTranspose(32, (2, 2), strides=(2, 2), padding='same')(c7)\n",
        "u8 = concatenate([u8, c2])\n",
        "c8 = Conv2D(32, (3, 3), activation='relu', kernel_initializer='he_normal', padding='same')(u8)\n",
        "c8 = Dropout(0.1)(c8)\n",
        "c8 = Conv2D(32, (3, 3), activation='relu', kernel_initializer='he_normal', padding='same')(c8)\n",
        "     "
      ]
    },
    {
      "cell_type": "code",
      "execution_count": null,
      "metadata": {
        "id": "BxUf0_g2t_LA"
      },
      "outputs": [],
      "source": [
        "    \n",
        "u9 = Conv2DTranspose(16, (2, 2), strides=(2, 2), padding='same')(c8)\n",
        "u9 = concatenate([u9, c1], axis=3)\n",
        "c9 = Conv2D(16, (3, 3), activation='relu', kernel_initializer='he_normal', padding='same')(u9)\n",
        "c9 = Dropout(0.1)(c9)\n",
        "c9 = Conv2D(16, (3, 3), activation='relu', kernel_initializer='he_normal', padding='same')(c9)\n",
        "     "
      ]
    },
    {
      "cell_type": "code",
      "execution_count": null,
      "metadata": {
        "id": "1nGYPrsEuA4W"
      },
      "outputs": [],
      "source": [
        "outputs = Conv2D(n_classes, (1, 1), activation='softmax')(c9)\n",
        "     \n",
        "model = Model(inputs=[inputs], outputs=[outputs])\n",
        "    "
      ]
    },
    {
      "cell_type": "code",
      "execution_count": null,
      "metadata": {
        "colab": {
          "base_uri": "https://localhost:8080/"
        },
        "id": "YZGHY3FKuCey",
        "outputId": "d933aad1-17af-4d42-9bab-ee3a32419324"
      },
      "outputs": [
        {
          "name": "stdout",
          "output_type": "stream",
          "text": [
            "Model: \"model\"\n",
            "__________________________________________________________________________________________________\n",
            " Layer (type)                   Output Shape         Param #     Connected to                     \n",
            "==================================================================================================\n",
            " input_1 (InputLayer)           [(None, 128, 128, 1  0           []                               \n",
            "                                )]                                                                \n",
            "                                                                                                  \n",
            " conv2d (Conv2D)                (None, 128, 128, 16  160         ['input_1[0][0]']                \n",
            "                                )                                                                 \n",
            "                                                                                                  \n",
            " dropout (Dropout)              (None, 128, 128, 16  0           ['conv2d[0][0]']                 \n",
            "                                )                                                                 \n",
            "                                                                                                  \n",
            " conv2d_1 (Conv2D)              (None, 128, 128, 16  2320        ['dropout[0][0]']                \n",
            "                                )                                                                 \n",
            "                                                                                                  \n",
            " max_pooling2d (MaxPooling2D)   (None, 64, 64, 16)   0           ['conv2d_1[0][0]']               \n",
            "                                                                                                  \n",
            " conv2d_2 (Conv2D)              (None, 64, 64, 32)   4640        ['max_pooling2d[0][0]']          \n",
            "                                                                                                  \n",
            " dropout_1 (Dropout)            (None, 64, 64, 32)   0           ['conv2d_2[0][0]']               \n",
            "                                                                                                  \n",
            " conv2d_3 (Conv2D)              (None, 64, 64, 32)   9248        ['dropout_1[0][0]']              \n",
            "                                                                                                  \n",
            " max_pooling2d_1 (MaxPooling2D)  (None, 32, 32, 32)  0           ['conv2d_3[0][0]']               \n",
            "                                                                                                  \n",
            " conv2d_4 (Conv2D)              (None, 32, 32, 64)   18496       ['max_pooling2d_1[0][0]']        \n",
            "                                                                                                  \n",
            " dropout_2 (Dropout)            (None, 32, 32, 64)   0           ['conv2d_4[0][0]']               \n",
            "                                                                                                  \n",
            " conv2d_5 (Conv2D)              (None, 32, 32, 64)   36928       ['dropout_2[0][0]']              \n",
            "                                                                                                  \n",
            " max_pooling2d_2 (MaxPooling2D)  (None, 16, 16, 64)  0           ['conv2d_5[0][0]']               \n",
            "                                                                                                  \n",
            " conv2d_6 (Conv2D)              (None, 16, 16, 128)  73856       ['max_pooling2d_2[0][0]']        \n",
            "                                                                                                  \n",
            " dropout_3 (Dropout)            (None, 16, 16, 128)  0           ['conv2d_6[0][0]']               \n",
            "                                                                                                  \n",
            " conv2d_7 (Conv2D)              (None, 16, 16, 128)  147584      ['dropout_3[0][0]']              \n",
            "                                                                                                  \n",
            " max_pooling2d_3 (MaxPooling2D)  (None, 8, 8, 128)   0           ['conv2d_7[0][0]']               \n",
            "                                                                                                  \n",
            " conv2d_8 (Conv2D)              (None, 8, 8, 256)    295168      ['max_pooling2d_3[0][0]']        \n",
            "                                                                                                  \n",
            " dropout_4 (Dropout)            (None, 8, 8, 256)    0           ['conv2d_8[0][0]']               \n",
            "                                                                                                  \n",
            " conv2d_9 (Conv2D)              (None, 8, 8, 256)    590080      ['dropout_4[0][0]']              \n",
            "                                                                                                  \n",
            " conv2d_transpose (Conv2DTransp  (None, 16, 16, 128)  131200     ['conv2d_9[0][0]']               \n",
            " ose)                                                                                             \n",
            "                                                                                                  \n",
            " concatenate (Concatenate)      (None, 16, 16, 256)  0           ['conv2d_transpose[0][0]',       \n",
            "                                                                  'conv2d_7[0][0]']               \n",
            "                                                                                                  \n",
            " conv2d_10 (Conv2D)             (None, 16, 16, 128)  295040      ['concatenate[0][0]']            \n",
            "                                                                                                  \n",
            " dropout_5 (Dropout)            (None, 16, 16, 128)  0           ['conv2d_10[0][0]']              \n",
            "                                                                                                  \n",
            " conv2d_11 (Conv2D)             (None, 16, 16, 128)  147584      ['dropout_5[0][0]']              \n",
            "                                                                                                  \n",
            " conv2d_transpose_1 (Conv2DTran  (None, 32, 32, 64)  32832       ['conv2d_11[0][0]']              \n",
            " spose)                                                                                           \n",
            "                                                                                                  \n",
            " concatenate_1 (Concatenate)    (None, 32, 32, 128)  0           ['conv2d_transpose_1[0][0]',     \n",
            "                                                                  'conv2d_5[0][0]']               \n",
            "                                                                                                  \n",
            " conv2d_12 (Conv2D)             (None, 32, 32, 64)   73792       ['concatenate_1[0][0]']          \n",
            "                                                                                                  \n",
            " dropout_6 (Dropout)            (None, 32, 32, 64)   0           ['conv2d_12[0][0]']              \n",
            "                                                                                                  \n",
            " conv2d_13 (Conv2D)             (None, 32, 32, 64)   36928       ['dropout_6[0][0]']              \n",
            "                                                                                                  \n",
            " conv2d_transpose_2 (Conv2DTran  (None, 64, 64, 32)  8224        ['conv2d_13[0][0]']              \n",
            " spose)                                                                                           \n",
            "                                                                                                  \n",
            " concatenate_2 (Concatenate)    (None, 64, 64, 64)   0           ['conv2d_transpose_2[0][0]',     \n",
            "                                                                  'conv2d_3[0][0]']               \n",
            "                                                                                                  \n",
            " conv2d_14 (Conv2D)             (None, 64, 64, 32)   18464       ['concatenate_2[0][0]']          \n",
            "                                                                                                  \n",
            " dropout_7 (Dropout)            (None, 64, 64, 32)   0           ['conv2d_14[0][0]']              \n",
            "                                                                                                  \n",
            " conv2d_15 (Conv2D)             (None, 64, 64, 32)   9248        ['dropout_7[0][0]']              \n",
            "                                                                                                  \n",
            " conv2d_transpose_3 (Conv2DTran  (None, 128, 128, 16  2064       ['conv2d_15[0][0]']              \n",
            " spose)                         )                                                                 \n",
            "                                                                                                  \n",
            " concatenate_3 (Concatenate)    (None, 128, 128, 32  0           ['conv2d_transpose_3[0][0]',     \n",
            "                                )                                 'conv2d_1[0][0]']               \n",
            "                                                                                                  \n",
            " conv2d_16 (Conv2D)             (None, 128, 128, 16  4624        ['concatenate_3[0][0]']          \n",
            "                                )                                                                 \n",
            "                                                                                                  \n",
            " dropout_8 (Dropout)            (None, 128, 128, 16  0           ['conv2d_16[0][0]']              \n",
            "                                )                                                                 \n",
            "                                                                                                  \n",
            " conv2d_17 (Conv2D)             (None, 128, 128, 16  2320        ['dropout_8[0][0]']              \n",
            "                                )                                                                 \n",
            "                                                                                                  \n",
            " conv2d_18 (Conv2D)             (None, 128, 128, 4)  68          ['conv2d_17[0][0]']              \n",
            "                                                                                                  \n",
            "==================================================================================================\n",
            "Total params: 1,940,868\n",
            "Trainable params: 1,940,868\n",
            "Non-trainable params: 0\n",
            "__________________________________________________________________________________________________\n"
          ]
        }
      ],
      "source": [
        "\n",
        "model.compile(optimizer='adam', loss='categorical_crossentropy', metrics=['accuracy'])\n",
        "model.summary()"
      ]
    },
    {
      "cell_type": "code",
      "execution_count": null,
      "metadata": {
        "id": "QKFPzt85FN1g"
      },
      "outputs": [],
      "source": []
    },
    {
      "cell_type": "code",
      "execution_count": null,
      "metadata": {
        "colab": {
          "background_save": true,
          "base_uri": "https://localhost:8080/"
        },
        "id": "Bn5mXjaguEfR",
        "outputId": "176fd6f7-741c-4976-c35c-b7959766279a"
      },
      "outputs": [
        {
          "name": "stdout",
          "output_type": "stream",
          "text": [
            "Epoch 1/100\n",
            "5/5 [==============================] - 10s 1s/step - loss: 1.3951 - accuracy: 0.1569 - val_loss: 1.3539 - val_accuracy: 0.2680\n",
            "Epoch 2/100\n",
            "5/5 [==============================] - 7s 1s/step - loss: 1.3234 - accuracy: 0.2844 - val_loss: 1.2644 - val_accuracy: 0.3551\n",
            "Epoch 3/100\n",
            "5/5 [==============================] - 7s 1s/step - loss: 1.1223 - accuracy: 0.5180 - val_loss: 1.0494 - val_accuracy: 0.7547\n",
            "Epoch 4/100\n",
            "5/5 [==============================] - 7s 1s/step - loss: 0.9134 - accuracy: 0.7493 - val_loss: 0.8320 - val_accuracy: 0.7563\n",
            "Epoch 5/100\n",
            "5/5 [==============================] - 7s 1s/step - loss: 0.8388 - accuracy: 0.7566 - val_loss: 0.8574 - val_accuracy: 0.7563\n",
            "Epoch 6/100\n",
            "5/5 [==============================] - 7s 1s/step - loss: 0.8082 - accuracy: 0.7567 - val_loss: 0.7985 - val_accuracy: 0.7563\n",
            "Epoch 7/100\n",
            "5/5 [==============================] - 7s 1s/step - loss: 0.7563 - accuracy: 0.7568 - val_loss: 0.7916 - val_accuracy: 0.7563\n",
            "Epoch 8/100\n",
            "5/5 [==============================] - 7s 1s/step - loss: 0.7115 - accuracy: 0.7568 - val_loss: 0.6430 - val_accuracy: 0.7563\n",
            "Epoch 9/100\n",
            "5/5 [==============================] - 9s 2s/step - loss: 0.6301 - accuracy: 0.7568 - val_loss: 0.6145 - val_accuracy: 0.7563\n",
            "Epoch 10/100\n",
            "5/5 [==============================] - 7s 1s/step - loss: 0.6099 - accuracy: 0.7568 - val_loss: 0.5908 - val_accuracy: 0.7563\n",
            "Epoch 11/100\n",
            "5/5 [==============================] - 7s 1s/step - loss: 0.5833 - accuracy: 0.7568 - val_loss: 0.5636 - val_accuracy: 0.7563\n",
            "Epoch 12/100\n",
            "5/5 [==============================] - 7s 1s/step - loss: 0.5749 - accuracy: 0.7568 - val_loss: 0.5798 - val_accuracy: 0.7563\n",
            "Epoch 13/100\n",
            "5/5 [==============================] - 7s 1s/step - loss: 0.6076 - accuracy: 0.7568 - val_loss: 0.5872 - val_accuracy: 0.7563\n",
            "Epoch 14/100\n",
            "5/5 [==============================] - 7s 1s/step - loss: 0.5662 - accuracy: 0.7568 - val_loss: 0.5436 - val_accuracy: 0.7563\n",
            "Epoch 15/100\n",
            "5/5 [==============================] - 7s 1s/step - loss: 0.5328 - accuracy: 0.7568 - val_loss: 0.4937 - val_accuracy: 0.7563\n",
            "Epoch 16/100\n",
            "5/5 [==============================] - 7s 1s/step - loss: 0.5145 - accuracy: 0.7568 - val_loss: 0.4931 - val_accuracy: 0.7563\n",
            "Epoch 17/100\n",
            "5/5 [==============================] - 7s 1s/step - loss: 0.4958 - accuracy: 0.7568 - val_loss: 0.4899 - val_accuracy: 0.7563\n",
            "Epoch 18/100\n",
            "5/5 [==============================] - 7s 1s/step - loss: 0.4812 - accuracy: 0.7568 - val_loss: 0.4688 - val_accuracy: 0.7563\n",
            "Epoch 19/100\n",
            "5/5 [==============================] - 7s 1s/step - loss: 0.4650 - accuracy: 0.7617 - val_loss: 0.4513 - val_accuracy: 0.7743\n",
            "Epoch 20/100\n",
            "5/5 [==============================] - 7s 1s/step - loss: 0.4431 - accuracy: 0.8013 - val_loss: 0.4277 - val_accuracy: 0.8621\n",
            "Epoch 21/100\n",
            "5/5 [==============================] - 7s 1s/step - loss: 0.4130 - accuracy: 0.8263 - val_loss: 0.3871 - val_accuracy: 0.8456\n",
            "Epoch 22/100\n",
            "5/5 [==============================] - 7s 1s/step - loss: 0.3742 - accuracy: 0.8356 - val_loss: 0.3117 - val_accuracy: 0.8786\n",
            "Epoch 23/100\n",
            "5/5 [==============================] - 7s 1s/step - loss: 0.3467 - accuracy: 0.8466 - val_loss: 0.3207 - val_accuracy: 0.8694\n",
            "Epoch 24/100\n",
            "5/5 [==============================] - 7s 1s/step - loss: 0.3467 - accuracy: 0.8412 - val_loss: 0.3097 - val_accuracy: 0.8687\n",
            "Epoch 25/100\n",
            "5/5 [==============================] - 7s 1s/step - loss: 0.3063 - accuracy: 0.8516 - val_loss: 0.2769 - val_accuracy: 0.8728\n",
            "Epoch 26/100\n",
            "5/5 [==============================] - 7s 1s/step - loss: 0.2919 - accuracy: 0.8594 - val_loss: 0.2498 - val_accuracy: 0.9086\n",
            "Epoch 27/100\n",
            "5/5 [==============================] - 7s 1s/step - loss: 0.2699 - accuracy: 0.8829 - val_loss: 0.2184 - val_accuracy: 0.9183\n",
            "Epoch 28/100\n",
            "5/5 [==============================] - 7s 1s/step - loss: 0.2515 - accuracy: 0.9049 - val_loss: 0.2329 - val_accuracy: 0.9152\n",
            "Epoch 29/100\n",
            "5/5 [==============================] - 7s 1s/step - loss: 0.2454 - accuracy: 0.9042 - val_loss: 0.2182 - val_accuracy: 0.9142\n",
            "Epoch 30/100\n",
            "5/5 [==============================] - 7s 1s/step - loss: 0.2418 - accuracy: 0.9083 - val_loss: 0.2444 - val_accuracy: 0.9061\n",
            "Epoch 31/100\n",
            "5/5 [==============================] - 7s 1s/step - loss: 0.2361 - accuracy: 0.9051 - val_loss: 0.2358 - val_accuracy: 0.9055\n",
            "Epoch 32/100\n",
            "5/5 [==============================] - 7s 1s/step - loss: 0.2411 - accuracy: 0.9059 - val_loss: 0.2575 - val_accuracy: 0.9048\n",
            "Epoch 33/100\n",
            "5/5 [==============================] - 7s 1s/step - loss: 0.2280 - accuracy: 0.9094 - val_loss: 0.2131 - val_accuracy: 0.9183\n",
            "Epoch 34/100\n",
            "5/5 [==============================] - 7s 1s/step - loss: 0.2152 - accuracy: 0.9150 - val_loss: 0.2200 - val_accuracy: 0.9132\n",
            "Epoch 35/100\n",
            "5/5 [==============================] - 7s 1s/step - loss: 0.2177 - accuracy: 0.9120 - val_loss: 0.2106 - val_accuracy: 0.9188\n",
            "Epoch 36/100\n",
            "5/5 [==============================] - 7s 1s/step - loss: 0.2121 - accuracy: 0.9131 - val_loss: 0.2063 - val_accuracy: 0.9211\n",
            "Epoch 37/100\n",
            "5/5 [==============================] - 7s 1s/step - loss: 0.2079 - accuracy: 0.9144 - val_loss: 0.2140 - val_accuracy: 0.9116\n",
            "Epoch 38/100\n",
            "5/5 [==============================] - 7s 1s/step - loss: 0.2085 - accuracy: 0.9141 - val_loss: 0.2051 - val_accuracy: 0.9189\n",
            "Epoch 39/100\n",
            "5/5 [==============================] - 7s 1s/step - loss: 0.2019 - accuracy: 0.9150 - val_loss: 0.1944 - val_accuracy: 0.9210\n",
            "Epoch 40/100\n",
            "5/5 [==============================] - 7s 1s/step - loss: 0.2039 - accuracy: 0.9160 - val_loss: 0.2012 - val_accuracy: 0.9207\n",
            "Epoch 41/100\n",
            "5/5 [==============================] - 7s 1s/step - loss: 0.2064 - accuracy: 0.9133 - val_loss: 0.2033 - val_accuracy: 0.9161\n",
            "Epoch 42/100\n",
            "5/5 [==============================] - 7s 1s/step - loss: 0.2036 - accuracy: 0.9139 - val_loss: 0.2147 - val_accuracy: 0.9101\n",
            "Epoch 43/100\n",
            "5/5 [==============================] - 7s 1s/step - loss: 0.2017 - accuracy: 0.9144 - val_loss: 0.2046 - val_accuracy: 0.9151\n",
            "Epoch 44/100\n",
            "5/5 [==============================] - 7s 1s/step - loss: 0.1955 - accuracy: 0.9163 - val_loss: 0.1852 - val_accuracy: 0.9230\n",
            "Epoch 45/100\n",
            "5/5 [==============================] - 7s 1s/step - loss: 0.1934 - accuracy: 0.9169 - val_loss: 0.1878 - val_accuracy: 0.9232\n",
            "Epoch 46/100\n",
            "5/5 [==============================] - 7s 1s/step - loss: 0.1934 - accuracy: 0.9159 - val_loss: 0.1923 - val_accuracy: 0.9176\n",
            "Epoch 47/100\n",
            "5/5 [==============================] - 7s 1s/step - loss: 0.1955 - accuracy: 0.9153 - val_loss: 0.2019 - val_accuracy: 0.9134\n",
            "Epoch 48/100\n",
            "5/5 [==============================] - 7s 1s/step - loss: 0.1972 - accuracy: 0.9142 - val_loss: 0.2001 - val_accuracy: 0.9130\n",
            "Epoch 49/100\n",
            "5/5 [==============================] - 7s 1s/step - loss: 0.1904 - accuracy: 0.9171 - val_loss: 0.1918 - val_accuracy: 0.9166\n",
            "Epoch 50/100\n",
            "5/5 [==============================] - 7s 1s/step - loss: 0.1883 - accuracy: 0.9169 - val_loss: 0.1898 - val_accuracy: 0.9189\n",
            "Epoch 51/100\n",
            "5/5 [==============================] - 7s 1s/step - loss: 0.1857 - accuracy: 0.9187 - val_loss: 0.1861 - val_accuracy: 0.9155\n",
            "Epoch 52/100\n",
            "5/5 [==============================] - 7s 1s/step - loss: 0.1861 - accuracy: 0.9178 - val_loss: 0.1907 - val_accuracy: 0.9167\n",
            "Epoch 53/100\n",
            "5/5 [==============================] - 7s 1s/step - loss: 0.1850 - accuracy: 0.9172 - val_loss: 0.1861 - val_accuracy: 0.9150\n",
            "Epoch 54/100\n",
            "5/5 [==============================] - 7s 1s/step - loss: 0.1865 - accuracy: 0.9161 - val_loss: 0.1961 - val_accuracy: 0.9114\n",
            "Epoch 55/100\n",
            "5/5 [==============================] - 7s 1s/step - loss: 0.1825 - accuracy: 0.9176 - val_loss: 0.1889 - val_accuracy: 0.9145\n",
            "Epoch 56/100\n",
            "5/5 [==============================] - 7s 1s/step - loss: 0.1834 - accuracy: 0.9178 - val_loss: 0.1893 - val_accuracy: 0.9151\n",
            "Epoch 57/100\n",
            "5/5 [==============================] - 7s 1s/step - loss: 0.1817 - accuracy: 0.9179 - val_loss: 0.1864 - val_accuracy: 0.9117\n",
            "Epoch 58/100\n",
            "5/5 [==============================] - 7s 1s/step - loss: 0.1843 - accuracy: 0.9175 - val_loss: 0.1919 - val_accuracy: 0.9131\n",
            "Epoch 59/100\n",
            "5/5 [==============================] - 7s 1s/step - loss: 0.1824 - accuracy: 0.9182 - val_loss: 0.1802 - val_accuracy: 0.9177\n",
            "Epoch 60/100\n",
            "5/5 [==============================] - 7s 1s/step - loss: 0.1753 - accuracy: 0.9200 - val_loss: 0.1723 - val_accuracy: 0.9197\n",
            "Epoch 61/100\n",
            "5/5 [==============================] - 7s 1s/step - loss: 0.1762 - accuracy: 0.9218 - val_loss: 0.1841 - val_accuracy: 0.9169\n",
            "Epoch 62/100\n",
            "5/5 [==============================] - 7s 1s/step - loss: 0.1766 - accuracy: 0.9200 - val_loss: 0.1773 - val_accuracy: 0.9157\n",
            "Epoch 63/100\n",
            "5/5 [==============================] - 7s 1s/step - loss: 0.1753 - accuracy: 0.9203 - val_loss: 0.1880 - val_accuracy: 0.9115\n",
            "Epoch 64/100\n",
            "5/5 [==============================] - 7s 1s/step - loss: 0.1722 - accuracy: 0.9211 - val_loss: 0.1823 - val_accuracy: 0.9163\n",
            "Epoch 65/100\n",
            "5/5 [==============================] - 7s 1s/step - loss: 0.1739 - accuracy: 0.9206 - val_loss: 0.1824 - val_accuracy: 0.9155\n",
            "Epoch 66/100\n",
            "5/5 [==============================] - 7s 1s/step - loss: 0.1742 - accuracy: 0.9212 - val_loss: 0.1881 - val_accuracy: 0.9197\n",
            "Epoch 67/100\n",
            "5/5 [==============================] - 7s 1s/step - loss: 0.1754 - accuracy: 0.9207 - val_loss: 0.1874 - val_accuracy: 0.9160\n",
            "Epoch 68/100\n",
            "5/5 [==============================] - 7s 1s/step - loss: 0.1720 - accuracy: 0.9217 - val_loss: 0.1762 - val_accuracy: 0.9188\n",
            "Epoch 69/100\n",
            "5/5 [==============================] - 7s 1s/step - loss: 0.1708 - accuracy: 0.9224 - val_loss: 0.1721 - val_accuracy: 0.9178\n",
            "Epoch 70/100\n",
            "5/5 [==============================] - 7s 1s/step - loss: 0.1710 - accuracy: 0.9233 - val_loss: 0.1834 - val_accuracy: 0.9183\n",
            "Epoch 71/100\n",
            "5/5 [==============================] - 7s 1s/step - loss: 0.1744 - accuracy: 0.9221 - val_loss: 0.1797 - val_accuracy: 0.9197\n",
            "Epoch 72/100\n",
            "5/5 [==============================] - 7s 1s/step - loss: 0.1753 - accuracy: 0.9195 - val_loss: 0.1931 - val_accuracy: 0.9142\n",
            "Epoch 73/100\n",
            "5/5 [==============================] - 7s 1s/step - loss: 0.1776 - accuracy: 0.9190 - val_loss: 0.1765 - val_accuracy: 0.9220\n",
            "Epoch 74/100\n",
            "5/5 [==============================] - 7s 1s/step - loss: 0.1715 - accuracy: 0.9212 - val_loss: 0.1675 - val_accuracy: 0.9240\n",
            "Epoch 75/100\n",
            "5/5 [==============================] - 7s 1s/step - loss: 0.1705 - accuracy: 0.9228 - val_loss: 0.1836 - val_accuracy: 0.9209\n",
            "Epoch 76/100\n",
            "5/5 [==============================] - 7s 1s/step - loss: 0.1694 - accuracy: 0.9221 - val_loss: 0.1772 - val_accuracy: 0.9193\n",
            "Epoch 77/100\n",
            "5/5 [==============================] - 7s 1s/step - loss: 0.1686 - accuracy: 0.9225 - val_loss: 0.1743 - val_accuracy: 0.9186\n",
            "Epoch 78/100\n",
            "5/5 [==============================] - 7s 1s/step - loss: 0.1636 - accuracy: 0.9257 - val_loss: 0.1708 - val_accuracy: 0.9182\n",
            "Epoch 79/100\n",
            "5/5 [==============================] - 7s 1s/step - loss: 0.1665 - accuracy: 0.9248 - val_loss: 0.1845 - val_accuracy: 0.9211\n",
            "Epoch 80/100\n",
            "5/5 [==============================] - 7s 1s/step - loss: 0.1632 - accuracy: 0.9248 - val_loss: 0.1681 - val_accuracy: 0.9234\n",
            "Epoch 81/100\n",
            "5/5 [==============================] - 7s 1s/step - loss: 0.1629 - accuracy: 0.9262 - val_loss: 0.1799 - val_accuracy: 0.9189\n",
            "Epoch 82/100\n",
            "5/5 [==============================] - 7s 1s/step - loss: 0.1572 - accuracy: 0.9271 - val_loss: 0.1729 - val_accuracy: 0.9219\n",
            "Epoch 83/100\n",
            "5/5 [==============================] - 7s 1s/step - loss: 0.1615 - accuracy: 0.9256 - val_loss: 0.1788 - val_accuracy: 0.9224\n",
            "Epoch 84/100\n",
            "5/5 [==============================] - 7s 1s/step - loss: 0.1547 - accuracy: 0.9280 - val_loss: 0.1884 - val_accuracy: 0.9183\n",
            "Epoch 85/100\n",
            "5/5 [==============================] - 7s 1s/step - loss: 0.1573 - accuracy: 0.9277 - val_loss: 0.1800 - val_accuracy: 0.9164\n",
            "Epoch 86/100\n",
            "5/5 [==============================] - 7s 1s/step - loss: 0.1618 - accuracy: 0.9265 - val_loss: 0.1786 - val_accuracy: 0.9242\n",
            "Epoch 87/100\n",
            "5/5 [==============================] - 7s 1s/step - loss: 0.1580 - accuracy: 0.9272 - val_loss: 0.1904 - val_accuracy: 0.9184\n",
            "Epoch 88/100\n",
            "5/5 [==============================] - 7s 1s/step - loss: 0.1551 - accuracy: 0.9296 - val_loss: 0.1763 - val_accuracy: 0.9211\n",
            "Epoch 89/100\n",
            "5/5 [==============================] - 7s 1s/step - loss: 0.1552 - accuracy: 0.9296 - val_loss: 0.1867 - val_accuracy: 0.9157\n",
            "Epoch 90/100\n",
            "5/5 [==============================] - 7s 1s/step - loss: 0.1540 - accuracy: 0.9280 - val_loss: 0.1818 - val_accuracy: 0.9170\n",
            "Epoch 91/100\n",
            "5/5 [==============================] - 7s 1s/step - loss: 0.1515 - accuracy: 0.9308 - val_loss: 0.1895 - val_accuracy: 0.9097\n",
            "Epoch 92/100\n",
            "5/5 [==============================] - 7s 1s/step - loss: 0.1537 - accuracy: 0.9291 - val_loss: 0.1828 - val_accuracy: 0.9186\n",
            "Epoch 93/100\n",
            "5/5 [==============================] - 7s 1s/step - loss: 0.1537 - accuracy: 0.9287 - val_loss: 0.1789 - val_accuracy: 0.9199\n",
            "Epoch 94/100\n",
            "5/5 [==============================] - 7s 1s/step - loss: 0.1479 - accuracy: 0.9310 - val_loss: 0.1866 - val_accuracy: 0.9188\n",
            "Epoch 95/100\n",
            "5/5 [==============================] - 7s 1s/step - loss: 0.1490 - accuracy: 0.9328 - val_loss: 0.2019 - val_accuracy: 0.9100\n",
            "Epoch 96/100\n",
            "5/5 [==============================] - 7s 1s/step - loss: 0.1488 - accuracy: 0.9323 - val_loss: 0.1932 - val_accuracy: 0.9137\n",
            "Epoch 97/100\n",
            "5/5 [==============================] - 7s 1s/step - loss: 0.1517 - accuracy: 0.9307 - val_loss: 0.2120 - val_accuracy: 0.9062\n",
            "Epoch 98/100\n",
            "5/5 [==============================] - 7s 1s/step - loss: 0.1518 - accuracy: 0.9300 - val_loss: 0.1792 - val_accuracy: 0.9207\n",
            "Epoch 99/100\n",
            "5/5 [==============================] - 7s 1s/step - loss: 0.1493 - accuracy: 0.9324 - val_loss: 0.2267 - val_accuracy: 0.9102\n",
            "Epoch 100/100\n",
            "5/5 [==============================] - 7s 1s/step - loss: 0.1505 - accuracy: 0.9313 - val_loss: 0.1642 - val_accuracy: 0.9240\n"
          ]
        }
      ],
      "source": [
        "history = model.fit(X_train, y_train_cat, \n",
        "                    batch_size = 8, \n",
        "                    verbose=1, \n",
        "                    epochs=100, \n",
        "                    validation_data=(X_test, y_test_cat), \n",
        "                    #class_weight=class_weights,\n",
        "                    shuffle=False)\n",
        "                    \n"
      ]
    },
    {
      "cell_type": "code",
      "execution_count": null,
      "metadata": {
        "colab": {
          "background_save": true
        },
        "id": "nBilR-zzuLTW"
      },
      "outputs": [],
      "source": [
        "model.save('test.hdf5')"
      ]
    },
    {
      "cell_type": "code",
      "execution_count": null,
      "metadata": {
        "colab": {
          "background_save": true
        },
        "id": "hVm9eUWUuS2I",
        "outputId": "bd4ab8ff-4efa-49f8-c106-ed296fec6005"
      },
      "outputs": [
        {
          "name": "stdout",
          "output_type": "stream",
          "text": [
            "1/1 [==============================] - 0s 70ms/step - loss: 0.1642 - accuracy: 0.9240\n",
            "Accuracy is =  92.39501953125 %\n"
          ]
        }
      ],
      "source": [
        "_, acc = model.evaluate(X_test, y_test_cat)\n",
        "print(\"Accuracy is = \", (acc * 100.0), \"%\")\n"
      ]
    },
    {
      "cell_type": "code",
      "execution_count": null,
      "metadata": {
        "colab": {
          "background_save": true
        },
        "id": "ipdD5C2luVea",
        "outputId": "68b2f4f6-a40b-48fe-d7ab-ffc3a50dd3ec"
      },
      "outputs": [
        {
          "data": {
            "image/png": "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\n",
            "text/plain": [
              "<Figure size 432x288 with 1 Axes>"
            ]
          },
          "metadata": {},
          "output_type": "display_data"
        }
      ],
      "source": [
        "loss = history.history['loss']\n",
        "val_loss = history.history['val_loss']\n",
        "epochs = range(1, len(loss) + 1)\n",
        "plt.plot(epochs, loss, 'y', label='Training loss')\n",
        "plt.plot(epochs, val_loss, 'r', label='Validation loss')\n",
        "plt.title('Training and validation loss')\n",
        "plt.xlabel('Epochs')\n",
        "plt.ylabel('Loss')\n",
        "plt.legend()\n",
        "plt.show()"
      ]
    },
    {
      "cell_type": "code",
      "execution_count": null,
      "metadata": {
        "colab": {
          "background_save": true
        },
        "id": "hNyZfaaPuYid"
      },
      "outputs": [],
      "source": [
        "acc = history.history['accuracy']\n",
        "val_acc = history.history['val_accuracy']"
      ]
    },
    {
      "cell_type": "code",
      "execution_count": null,
      "metadata": {
        "colab": {
          "background_save": true
        },
        "id": "lRdYjyGuucUn",
        "outputId": "d64ee7c5-6a2c-4746-b64e-fe0095199b61"
      },
      "outputs": [
        {
          "data": {
            "image/png": "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\n",
            "text/plain": [
              "<Figure size 432x288 with 1 Axes>"
            ]
          },
          "metadata": {},
          "output_type": "display_data"
        }
      ],
      "source": [
        "plt.plot(epochs, acc, 'y', label='Training Accuracy')\n",
        "plt.plot(epochs, val_acc, 'r', label='Validation Accuracy')\n",
        "plt.title('Training and validation Accuracy')\n",
        "plt.xlabel('Epochs')\n",
        "plt.ylabel('Accuracy')\n",
        "plt.legend()\n",
        "plt.show()\n"
      ]
    },
    {
      "cell_type": "code",
      "execution_count": null,
      "metadata": {
        "colab": {
          "background_save": true
        },
        "id": "RRI1LQckv61M"
      },
      "outputs": [],
      "source": [
        "model.load_weights('test.hdf5') "
      ]
    },
    {
      "cell_type": "code",
      "execution_count": null,
      "metadata": {
        "colab": {
          "background_save": true
        },
        "id": "sPNn37Civ-4q"
      },
      "outputs": [],
      "source": [
        "y_pred=model.predict(X_test)\n",
        "y_pred_argmax=np.argmax(y_pred, axis=3)"
      ]
    },
    {
      "cell_type": "code",
      "execution_count": null,
      "metadata": {
        "colab": {
          "background_save": true
        },
        "id": "iMG9zFFJwdUQ",
        "outputId": "922c9a53-fa2c-400c-be2a-e6c28e77ebc1"
      },
      "outputs": [
        {
          "name": "stdout",
          "output_type": "stream",
          "text": [
            "Mean IoU = 0.7192925\n"
          ]
        }
      ],
      "source": [
        "from keras.metrics import MeanIoU\n",
        "n_classes = 4\n",
        "IOU_keras = MeanIoU(num_classes=n_classes)  \n",
        "IOU_keras.update_state(y_test[:,:,:,0], y_pred_argmax)\n",
        "print(\"Mean IoU =\", IOU_keras.result().numpy())"
      ]
    },
    {
      "cell_type": "code",
      "execution_count": null,
      "metadata": {
        "colab": {
          "background_save": true
        },
        "id": "Y9FYVsldwfAH",
        "outputId": "036376d1-69c1-4918-fb80-cb36b47f7f2d"
      },
      "outputs": [
        {
          "name": "stdout",
          "output_type": "stream",
          "text": [
            "[[11741.   207.    27.   416.]\n",
            " [  207.  2217.     0.     0.]\n",
            " [   48.     0.    88.     0.]\n",
            " [  341.     0.     0.  1092.]]\n"
          ]
        }
      ],
      "source": [
        "values = np.array(IOU_keras.get_weights()).reshape(n_classes, n_classes)\n",
        "print(values)\n",
        "class1_IoU = values[0,0]/(values[0,0] + values[0,1] + values[0,2] + values[0,3] + values[1,0]+ values[2,0]+ values[3,0])\n",
        "class2_IoU = values[1,1]/(values[1,1] + values[1,0] + values[1,2] + values[1,3] + values[0,1]+ values[2,1]+ values[3,1])\n",
        "class3_IoU = values[2,2]/(values[2,2] + values[2,0] + values[2,1] + values[2,3] + values[0,2]+ values[1,2]+ values[3,2])\n",
        "class4_IoU = values[3,3]/(values[3,3] + values[3,0] + values[3,1] + values[3,2] + values[0,3]+ values[1,3]+ values[2,3])"
      ]
    },
    {
      "cell_type": "code",
      "execution_count": null,
      "metadata": {
        "colab": {
          "background_save": true
        },
        "id": "Ji2ukIRkwj8l",
        "outputId": "72fdff68-61ef-44f9-f3be-c301034c1258"
      },
      "outputs": [
        {
          "name": "stdout",
          "output_type": "stream",
          "text": [
            "IoU for class1 is:  0.9040579\n",
            "IoU for class2 is:  0.8426454\n",
            "IoU for class3 is:  0.5398773\n",
            "IoU for class4 is:  0.5905895\n"
          ]
        }
      ],
      "source": [
        "print(\"IoU for class1 is: \", class1_IoU)\n",
        "print(\"IoU for class2 is: \", class2_IoU)\n",
        "print(\"IoU for class3 is: \", class3_IoU)\n",
        "print(\"IoU for class4 is: \", class4_IoU)\n"
      ]
    },
    {
      "cell_type": "code",
      "execution_count": null,
      "metadata": {
        "colab": {
          "background_save": true
        },
        "id": "rxXnYtjKwmL-",
        "outputId": "2b5cbbfc-3ce1-4699-b68f-1fc11988bd3e"
      },
      "outputs": [
        {
          "data": {
            "text/plain": [
              "<matplotlib.image.AxesImage at 0x7fa6ab435150>"
            ]
          },
          "execution_count": 42,
          "metadata": {},
          "output_type": "execute_result"
        },
        {
          "data": {
            "image/png": "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\n",
            "text/plain": [
              "<Figure size 432x288 with 1 Axes>"
            ]
          },
          "metadata": {},
          "output_type": "display_data"
        }
      ],
      "source": [
        "plt.imshow(train_images[0, :,:,0], cmap='gray')\n",
        "plt.imshow(train_masks[0], cmap='gray')"
      ]
    },
    {
      "cell_type": "code",
      "execution_count": null,
      "metadata": {
        "colab": {
          "background_save": true
        },
        "id": "kRFL-aHJwoMP",
        "outputId": "531f0278-0519-48e9-b105-c9f81da86d0d"
      },
      "outputs": [
        {
          "ename": "IndexError",
          "evalue": "ignored",
          "output_type": "error",
          "traceback": [
            "\u001b[0;31m---------------------------------------------------------------------------\u001b[0m",
            "\u001b[0;31mIndexError\u001b[0m                                Traceback (most recent call last)",
            "\u001b[0;32m<ipython-input-43-315e1555119f>\u001b[0m in \u001b[0;36m<module>\u001b[0;34m()\u001b[0m\n\u001b[1;32m      1\u001b[0m \u001b[0;32mimport\u001b[0m \u001b[0mrandom\u001b[0m\u001b[0;34m\u001b[0m\u001b[0;34m\u001b[0m\u001b[0m\n\u001b[1;32m      2\u001b[0m \u001b[0mtest_img_number\u001b[0m \u001b[0;34m=\u001b[0m \u001b[0mrandom\u001b[0m\u001b[0;34m.\u001b[0m\u001b[0mrandint\u001b[0m\u001b[0;34m(\u001b[0m\u001b[0;36m0\u001b[0m\u001b[0;34m,\u001b[0m \u001b[0mlen\u001b[0m\u001b[0;34m(\u001b[0m\u001b[0mX_test\u001b[0m\u001b[0;34m)\u001b[0m\u001b[0;34m)\u001b[0m\u001b[0;34m\u001b[0m\u001b[0;34m\u001b[0m\u001b[0m\n\u001b[0;32m----> 3\u001b[0;31m \u001b[0mtest_img\u001b[0m \u001b[0;34m=\u001b[0m \u001b[0mX_test\u001b[0m\u001b[0;34m[\u001b[0m\u001b[0mtest_img_number\u001b[0m\u001b[0;34m]\u001b[0m\u001b[0;34m\u001b[0m\u001b[0;34m\u001b[0m\u001b[0m\n\u001b[0m\u001b[1;32m      4\u001b[0m \u001b[0mground_truth\u001b[0m\u001b[0;34m=\u001b[0m\u001b[0my_test\u001b[0m\u001b[0;34m[\u001b[0m\u001b[0mtest_img_number\u001b[0m\u001b[0;34m]\u001b[0m\u001b[0;34m\u001b[0m\u001b[0;34m\u001b[0m\u001b[0m\n\u001b[1;32m      5\u001b[0m \u001b[0mtest_img_norm\u001b[0m\u001b[0;34m=\u001b[0m\u001b[0mtest_img\u001b[0m\u001b[0;34m[\u001b[0m\u001b[0;34m:\u001b[0m\u001b[0;34m,\u001b[0m\u001b[0;34m:\u001b[0m\u001b[0;34m,\u001b[0m\u001b[0;36m0\u001b[0m\u001b[0;34m]\u001b[0m\u001b[0;34m[\u001b[0m\u001b[0;34m:\u001b[0m\u001b[0;34m,\u001b[0m\u001b[0;34m:\u001b[0m\u001b[0;34m,\u001b[0m\u001b[0;32mNone\u001b[0m\u001b[0;34m]\u001b[0m\u001b[0;34m\u001b[0m\u001b[0;34m\u001b[0m\u001b[0m\n",
            "\u001b[0;31mIndexError\u001b[0m: index 1 is out of bounds for axis 0 with size 1"
          ]
        }
      ],
      "source": [
        "import random\n",
        "test_img_number = random.randint(0, len(X_test))\n",
        "test_img = X_test[test_img_number]\n",
        "ground_truth=y_test[test_img_number]\n",
        "test_img_norm=test_img[:,:,0][:,:,None]\n",
        "test_img_input=np.expand_dims(test_img_norm, 0)\n",
        "prediction = (model.predict(test_img_input))\n",
        "predicted_img=np.argmax(prediction, axis=3)[0,:,:]\n"
      ]
    },
    {
      "cell_type": "code",
      "execution_count": null,
      "metadata": {
        "colab": {
          "background_save": true
        },
        "id": "5ODQsFQ0wqwG"
      },
      "outputs": [],
      "source": [
        "\n",
        "plt.figure(figsize=(12, 8))\n",
        "plt.subplot(231)\n",
        "plt.title('Testing Image')\n",
        "plt.imshow(test_img[:,:,0], cmap='gray')\n",
        "plt.subplot(232)\n",
        "plt.title('Testing Label')\n",
        "plt.imshow(ground_truth[:,:,0], cmap='jet')\n",
        "plt.subplot(233)\n",
        "plt.title('Prediction on test image')\n",
        "plt.imshow(predicted_img, cmap='jet')\n",
        "plt.show()"
      ]
    },
    {
      "cell_type": "code",
      "execution_count": null,
      "metadata": {
        "colab": {
          "background_save": true
        },
        "id": "_gR24Vv7wsjZ"
      },
      "outputs": [],
      "source": [
        "!pip install patchify\n"
      ]
    },
    {
      "cell_type": "code",
      "execution_count": null,
      "metadata": {
        "colab": {
          "background_save": true
        },
        "id": "EayfQnprwvmo"
      },
      "outputs": [],
      "source": [
        "from patchify import patchify, unpatchify\n"
      ]
    },
    {
      "cell_type": "code",
      "execution_count": null,
      "metadata": {
        "colab": {
          "background_save": true
        },
        "id": "NReiuhWFw5Wp"
      },
      "outputs": [],
      "source": [
        "\n",
        "#large_image = cv2.imread('/content/drive/MyDrive/08.dcm.tif', 0)\n",
        "large_image = cv2.imread('/content/drive/MyDrive/test.dcm.tif', 0)\n",
        "large_image=cv2.resize(large_image,(128,128))"
      ]
    },
    {
      "cell_type": "code",
      "execution_count": null,
      "metadata": {
        "colab": {
          "background_save": true
        },
        "id": "aEZJHYtMx9Hs"
      },
      "outputs": [],
      "source": [
        "patches = patchify(large_image, (128, 128), step=64) "
      ]
    },
    {
      "cell_type": "code",
      "execution_count": null,
      "metadata": {
        "colab": {
          "background_save": true
        },
        "id": "JP_JOF0lyLry"
      },
      "outputs": [],
      "source": [
        "predicted_patches = []\n",
        "for i in range(patches.shape[0]):\n",
        "    for j in range(patches.shape[1]):\n",
        "        print(i,j)\n",
        "        \n",
        "        single_patch = patches[i,j,:,:]       \n",
        "        single_patch_norm = np.expand_dims(normalize(np.array(single_patch), axis=1),2)\n",
        "        single_patch_input=np.expand_dims(single_patch_norm, 0)\n",
        "        single_patch_prediction = (model.predict(single_patch_input))\n",
        "        single_patch_predicted_img=np.argmax(single_patch_prediction, axis=3)[0,:,:]\n",
        "\n",
        "        predicted_patches.append(single_patch_predicted_img)"
      ]
    },
    {
      "cell_type": "code",
      "execution_count": null,
      "metadata": {
        "colab": {
          "background_save": true
        },
        "id": "cNYkoRw1yOXX"
      },
      "outputs": [],
      "source": [
        "predicted_patches = np.array(predicted_patches)\n",
        "\n",
        "predicted_patches_reshaped = np.reshape(predicted_patches, (patches.shape[0], patches.shape[1], 128,128) )"
      ]
    },
    {
      "cell_type": "code",
      "execution_count": null,
      "metadata": {
        "colab": {
          "background_save": true
        },
        "id": "hDco5n4uyRsK"
      },
      "outputs": [],
      "source": [
        "\n",
        "reconstructed_image = unpatchify(predicted_patches_reshaped, large_image.shape)\n",
        "plt.imshow(reconstructed_image, cmap='gray')"
      ]
    },
    {
      "cell_type": "code",
      "execution_count": null,
      "metadata": {
        "colab": {
          "background_save": true
        },
        "id": "9dKqVgNvyT_w"
      },
      "outputs": [],
      "source": [
        "plt.hist(reconstructed_image.flatten())  #Threshold everything above 0\n"
      ]
    },
    {
      "cell_type": "code",
      "execution_count": null,
      "metadata": {
        "colab": {
          "background_save": true
        },
        "id": "GLUUKL9KyWDm"
      },
      "outputs": [],
      "source": [
        "plt.figure(figsize=(8, 8))\n",
        "plt.subplot(221)\n",
        "plt.title('Large Image')\n",
        "plt.imshow(large_image, cmap='gray')\n",
        "plt.subplot(222)\n",
        "plt.title('Prediction of large Image')\n",
        "plt.imshow(reconstructed_image, cmap='jet')\n",
        "plt.show()"
      ]
    }
    }
